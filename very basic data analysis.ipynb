{
 "cells": [
  {
   "cell_type": "markdown",
   "metadata": {},
   "source": [
    "## libraries "
   ]
  },
  {
   "cell_type": "code",
   "execution_count": 1,
   "metadata": {},
   "outputs": [],
   "source": [
    "import numpy as np \n",
    "import matplotlib.pyplot as plt \n",
    "import pandas as pd \n",
    "\n",
    "from sklearn.cluster import KMeans , SpectralClustering , AgglomerativeClustering\n",
    "from matplotlib.colors import LinearSegmentedColormap\n",
    "\n",
    "import os"
   ]
  },
  {
   "cell_type": "markdown",
   "metadata": {},
   "source": [
    "## Data"
   ]
  },
  {
   "cell_type": "code",
   "execution_count": 2,
   "metadata": {},
   "outputs": [],
   "source": [
    "data_df = pd.read_json(\"Brisbane_CityBike.json\") "
   ]
  },
  {
   "cell_type": "code",
   "execution_count": 3,
   "metadata": {
    "scrolled": false
   },
   "outputs": [
    {
     "data": {
      "text/html": [
       "<div>\n",
       "<style scoped>\n",
       "    .dataframe tbody tr th:only-of-type {\n",
       "        vertical-align: middle;\n",
       "    }\n",
       "\n",
       "    .dataframe tbody tr th {\n",
       "        vertical-align: top;\n",
       "    }\n",
       "\n",
       "    .dataframe thead th {\n",
       "        text-align: right;\n",
       "    }\n",
       "</style>\n",
       "<table border=\"1\" class=\"dataframe\">\n",
       "  <thead>\n",
       "    <tr style=\"text-align: right;\">\n",
       "      <th></th>\n",
       "      <th>number</th>\n",
       "      <th>name</th>\n",
       "      <th>address</th>\n",
       "      <th>latitude</th>\n",
       "      <th>longitude</th>\n",
       "    </tr>\n",
       "  </thead>\n",
       "  <tbody>\n",
       "    <tr>\n",
       "      <th>0</th>\n",
       "      <td>122</td>\n",
       "      <td>122 - LOWER RIVER TCE / ELLIS ST</td>\n",
       "      <td>Lower River Tce / Ellis St</td>\n",
       "      <td>-27.482279</td>\n",
       "      <td>153.028723</td>\n",
       "    </tr>\n",
       "    <tr>\n",
       "      <th>1</th>\n",
       "      <td>91</td>\n",
       "      <td>91 - MAIN ST / DARRAGH ST</td>\n",
       "      <td>Main St / Darragh St</td>\n",
       "      <td>-27.470590</td>\n",
       "      <td>153.036046</td>\n",
       "    </tr>\n",
       "    <tr>\n",
       "      <th>2</th>\n",
       "      <td>88</td>\n",
       "      <td>88 - SYDNEY ST FERRY TERMINAL / PARK</td>\n",
       "      <td>Sydney St Ferry Terminal / Park</td>\n",
       "      <td>-27.474531</td>\n",
       "      <td>153.042728</td>\n",
       "    </tr>\n",
       "    <tr>\n",
       "      <th>3</th>\n",
       "      <td>75</td>\n",
       "      <td>75 - BROWNE ST / JAMES ST</td>\n",
       "      <td>Browne St / James St</td>\n",
       "      <td>-27.461881</td>\n",
       "      <td>153.046986</td>\n",
       "    </tr>\n",
       "    <tr>\n",
       "      <th>4</th>\n",
       "      <td>98</td>\n",
       "      <td>98 - KURILPA POINT / MONTAGUE RD</td>\n",
       "      <td>Kurilpa Point / Montague Rd</td>\n",
       "      <td>-27.469658</td>\n",
       "      <td>153.016696</td>\n",
       "    </tr>\n",
       "    <tr>\n",
       "      <th>...</th>\n",
       "      <td>...</td>\n",
       "      <td>...</td>\n",
       "      <td>...</td>\n",
       "      <td>...</td>\n",
       "      <td>...</td>\n",
       "    </tr>\n",
       "    <tr>\n",
       "      <th>144</th>\n",
       "      <td>38</td>\n",
       "      <td>38 - ANN ST / CREEK ST</td>\n",
       "      <td>38 - Ann St / Creek St</td>\n",
       "      <td>-27.465880</td>\n",
       "      <td>153.026861</td>\n",
       "    </tr>\n",
       "    <tr>\n",
       "      <th>145</th>\n",
       "      <td>14</td>\n",
       "      <td>14 - ALBERT STREET MALL / ELIZABETH STREET</td>\n",
       "      <td>Albert St Mall / Elizabeth St</td>\n",
       "      <td>-27.470110</td>\n",
       "      <td>153.025627</td>\n",
       "    </tr>\n",
       "    <tr>\n",
       "      <th>146</th>\n",
       "      <td>45</td>\n",
       "      <td>45 - TURBOT ST / BOWEN ST</td>\n",
       "      <td>Turbot St / Bowen St</td>\n",
       "      <td>-27.462665</td>\n",
       "      <td>153.029087</td>\n",
       "    </tr>\n",
       "    <tr>\n",
       "      <th>147</th>\n",
       "      <td>1</td>\n",
       "      <td>1 - EDWARD ST / QUEEN ST</td>\n",
       "      <td>Edward St / Queen St</td>\n",
       "      <td>-27.468120</td>\n",
       "      <td>153.026820</td>\n",
       "    </tr>\n",
       "    <tr>\n",
       "      <th>148</th>\n",
       "      <td>116</td>\n",
       "      <td>116 - CORDELIA ST / ERNEST ST</td>\n",
       "      <td>Cordelia St / Ernest St</td>\n",
       "      <td>-27.481137</td>\n",
       "      <td>153.019284</td>\n",
       "    </tr>\n",
       "  </tbody>\n",
       "</table>\n",
       "<p>149 rows × 5 columns</p>\n",
       "</div>"
      ],
      "text/plain": [
       "     number                                        name  \\\n",
       "0       122            122 - LOWER RIVER TCE / ELLIS ST   \n",
       "1        91                   91 - MAIN ST / DARRAGH ST   \n",
       "2        88        88 - SYDNEY ST FERRY TERMINAL / PARK   \n",
       "3        75                   75 - BROWNE ST / JAMES ST   \n",
       "4        98            98 - KURILPA POINT / MONTAGUE RD   \n",
       "..      ...                                         ...   \n",
       "144      38                      38 - ANN ST / CREEK ST   \n",
       "145      14  14 - ALBERT STREET MALL / ELIZABETH STREET   \n",
       "146      45                   45 - TURBOT ST / BOWEN ST   \n",
       "147       1                    1 - EDWARD ST / QUEEN ST   \n",
       "148     116               116 - CORDELIA ST / ERNEST ST   \n",
       "\n",
       "                             address   latitude   longitude  \n",
       "0         Lower River Tce / Ellis St -27.482279  153.028723  \n",
       "1               Main St / Darragh St -27.470590  153.036046  \n",
       "2    Sydney St Ferry Terminal / Park -27.474531  153.042728  \n",
       "3               Browne St / James St -27.461881  153.046986  \n",
       "4        Kurilpa Point / Montague Rd -27.469658  153.016696  \n",
       "..                               ...        ...         ...  \n",
       "144           38 - Ann St / Creek St -27.465880  153.026861  \n",
       "145    Albert St Mall / Elizabeth St -27.470110  153.025627  \n",
       "146             Turbot St / Bowen St -27.462665  153.029087  \n",
       "147             Edward St / Queen St -27.468120  153.026820  \n",
       "148          Cordelia St / Ernest St -27.481137  153.019284  \n",
       "\n",
       "[149 rows x 5 columns]"
      ]
     },
     "execution_count": 3,
     "metadata": {},
     "output_type": "execute_result"
    }
   ],
   "source": [
    "data_df.head( len(data_df) )"
   ]
  },
  {
   "cell_type": "markdown",
   "metadata": {},
   "source": [
    "**after googling the textual addresses and as mentioned on the subject the data comes from 'Brisbane' , Australia**"
   ]
  },
  {
   "cell_type": "markdown",
   "metadata": {},
   "source": [
    "## some basics "
   ]
  },
  {
   "cell_type": "markdown",
   "metadata": {},
   "source": [
    "### number column"
   ]
  },
  {
   "cell_type": "code",
   "execution_count": 4,
   "metadata": {},
   "outputs": [
    {
     "name": "stdout",
     "output_type": "stream",
     "text": [
      " the number of distinct addresses  149\n"
     ]
    }
   ],
   "source": [
    "unique_numbers =  data_df.number.unique()\n",
    "\n",
    "print (\" the number of distinct addresses \" , unique_numbers.shape[0] )"
   ]
  },
  {
   "cell_type": "markdown",
   "metadata": {},
   "source": [
    "**It is an ID  column**"
   ]
  },
  {
   "cell_type": "markdown",
   "metadata": {},
   "source": [
    "### address column"
   ]
  },
  {
   "cell_type": "code",
   "execution_count": 5,
   "metadata": {
    "scrolled": true
   },
   "outputs": [
    {
     "name": "stdout",
     "output_type": "stream",
     "text": [
      " the number of distinct addresses  146\n"
     ]
    }
   ],
   "source": [
    "unique_addrs = data_df.address.unique()\n",
    "\n",
    "print (\" the number of distinct addresses \" , unique_addrs.shape[0] )"
   ]
  },
  {
   "cell_type": "markdown",
   "metadata": {},
   "source": [
    "it is almost unique for each example , this column as it is , is not relevant "
   ]
  },
  {
   "cell_type": "code",
   "execution_count": 6,
   "metadata": {},
   "outputs": [
    {
     "name": "stdout",
     "output_type": "stream",
     "text": [
      " our remark ==  True\n"
     ]
    }
   ],
   "source": [
    "print(\" our remark == \" , len(data_df.name.unique()) == 149 ) "
   ]
  },
  {
   "cell_type": "markdown",
   "metadata": {},
   "source": [
    "### name"
   ]
  },
  {
   "cell_type": "markdown",
   "metadata": {},
   "source": [
    "**We could notice intuitively that 'name' column is a concatenation between the two previous columns** "
   ]
  },
  {
   "cell_type": "markdown",
   "metadata": {},
   "source": [
    "Confirmation to check out if there is some misconceptions"
   ]
  },
  {
   "cell_type": "code",
   "execution_count": 7,
   "metadata": {},
   "outputs": [
    {
     "name": "stdout",
     "output_type": "stream",
     "text": [
      " our remark ==  True\n"
     ]
    }
   ],
   "source": [
    "print(\" our remark == \" , len(data_df.name.unique()) == 149 ) "
   ]
  },
  {
   "cell_type": "markdown",
   "metadata": {},
   "source": [
    "## explore the address column"
   ]
  },
  {
   "cell_type": "code",
   "execution_count": 8,
   "metadata": {},
   "outputs": [
    {
     "data": {
      "text/html": [
       "<div>\n",
       "<style scoped>\n",
       "    .dataframe tbody tr th:only-of-type {\n",
       "        vertical-align: middle;\n",
       "    }\n",
       "\n",
       "    .dataframe tbody tr th {\n",
       "        vertical-align: top;\n",
       "    }\n",
       "\n",
       "    .dataframe thead th {\n",
       "        text-align: right;\n",
       "    }\n",
       "</style>\n",
       "<table border=\"1\" class=\"dataframe\">\n",
       "  <thead>\n",
       "    <tr style=\"text-align: right;\">\n",
       "      <th></th>\n",
       "      <th>number</th>\n",
       "      <th>name</th>\n",
       "      <th>latitude</th>\n",
       "      <th>longitude</th>\n",
       "      <th>address 1</th>\n",
       "      <th>address 2</th>\n",
       "    </tr>\n",
       "  </thead>\n",
       "  <tbody>\n",
       "    <tr>\n",
       "      <th>0</th>\n",
       "      <td>122</td>\n",
       "      <td>122 - LOWER RIVER TCE / ELLIS ST</td>\n",
       "      <td>-27.482279</td>\n",
       "      <td>153.028723</td>\n",
       "      <td>Lower River Tce</td>\n",
       "      <td>Ellis St</td>\n",
       "    </tr>\n",
       "    <tr>\n",
       "      <th>1</th>\n",
       "      <td>91</td>\n",
       "      <td>91 - MAIN ST / DARRAGH ST</td>\n",
       "      <td>-27.470590</td>\n",
       "      <td>153.036046</td>\n",
       "      <td>Main St</td>\n",
       "      <td>Darragh St</td>\n",
       "    </tr>\n",
       "    <tr>\n",
       "      <th>2</th>\n",
       "      <td>88</td>\n",
       "      <td>88 - SYDNEY ST FERRY TERMINAL / PARK</td>\n",
       "      <td>-27.474531</td>\n",
       "      <td>153.042728</td>\n",
       "      <td>Sydney St Ferry Terminal</td>\n",
       "      <td>Park</td>\n",
       "    </tr>\n",
       "    <tr>\n",
       "      <th>3</th>\n",
       "      <td>75</td>\n",
       "      <td>75 - BROWNE ST / JAMES ST</td>\n",
       "      <td>-27.461881</td>\n",
       "      <td>153.046986</td>\n",
       "      <td>Browne St</td>\n",
       "      <td>James St</td>\n",
       "    </tr>\n",
       "    <tr>\n",
       "      <th>4</th>\n",
       "      <td>98</td>\n",
       "      <td>98 - KURILPA POINT / MONTAGUE RD</td>\n",
       "      <td>-27.469658</td>\n",
       "      <td>153.016696</td>\n",
       "      <td>Kurilpa Point</td>\n",
       "      <td>Montague Rd</td>\n",
       "    </tr>\n",
       "  </tbody>\n",
       "</table>\n",
       "</div>"
      ],
      "text/plain": [
       "   number                                  name   latitude   longitude  \\\n",
       "0     122      122 - LOWER RIVER TCE / ELLIS ST -27.482279  153.028723   \n",
       "1      91             91 - MAIN ST / DARRAGH ST -27.470590  153.036046   \n",
       "2      88  88 - SYDNEY ST FERRY TERMINAL / PARK -27.474531  153.042728   \n",
       "3      75             75 - BROWNE ST / JAMES ST -27.461881  153.046986   \n",
       "4      98      98 - KURILPA POINT / MONTAGUE RD -27.469658  153.016696   \n",
       "\n",
       "                  address 1    address 2  \n",
       "0           Lower River Tce     Ellis St  \n",
       "1                   Main St   Darragh St  \n",
       "2  Sydney St Ferry Terminal         Park  \n",
       "3                 Browne St     James St  \n",
       "4             Kurilpa Point  Montague Rd  "
      ]
     },
     "execution_count": 8,
     "metadata": {},
     "output_type": "execute_result"
    }
   ],
   "source": [
    "# new dataframe\n",
    "column_addr_df = data_df[\"address\"].str.split(\" / \", n = 1 , expand = True) \n",
    "\n",
    "# fetch the first column \n",
    "data_df[\"address 1\"]= column_addr_df[0]\n",
    "  \n",
    "# fetch the second column \n",
    "data_df[\"address 2\"]= column_addr_df[1] \n",
    "  \n",
    "# Dropping old address column\n",
    "data_df.drop(columns =[\"address\"], inplace = True) \n",
    "\n",
    "data_df.head(5)"
   ]
  },
  {
   "cell_type": "code",
   "execution_count": 9,
   "metadata": {
    "scrolled": true
   },
   "outputs": [
    {
     "name": "stdout",
     "output_type": "stream",
     "text": [
      "first part address unique values  :  103\n",
      "second part address unique values :  105\n"
     ]
    }
   ],
   "source": [
    "print(\"first part address unique values  : \", len(data_df[\"address 1\"].unique()) ) \n",
    "print(\"second part address unique values : \", len(data_df[\"address 2\"].unique()) ) "
   ]
  },
  {
   "cell_type": "markdown",
   "metadata": {},
   "source": [
    "**No Relevance too** "
   ]
  }
 ],
 "metadata": {
  "kernelspec": {
   "display_name": "Python 3",
   "language": "python",
   "name": "python3"
  },
  "language_info": {
   "codemirror_mode": {
    "name": "ipython",
    "version": 3
   },
   "file_extension": ".py",
   "mimetype": "text/x-python",
   "name": "python",
   "nbconvert_exporter": "python",
   "pygments_lexer": "ipython3",
   "version": "3.7.3"
  }
 },
 "nbformat": 4,
 "nbformat_minor": 2
}
